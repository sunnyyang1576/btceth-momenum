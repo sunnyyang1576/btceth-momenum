{
 "cells": [
  {
   "cell_type": "code",
   "execution_count": null,
   "metadata": {},
   "outputs": [],
   "source": []
  },
  {
   "cell_type": "code",
   "execution_count": 1,
   "metadata": {},
   "outputs": [],
   "source": [
    "import pandas as pd\n",
    "import numpy as np"
   ]
  },
  {
   "cell_type": "markdown",
   "metadata": {},
   "source": [
    "### Test 1"
   ]
  },
  {
   "cell_type": "code",
   "execution_count": 95,
   "metadata": {},
   "outputs": [],
   "source": [
    "df = pd.read_csv(\"data/usdt_pairs.csv\")\n",
    "df = df.iloc[:,1:]\n",
    "df[\"time\"] = pd.to_datetime(df[\"time\"])"
   ]
  },
  {
   "cell_type": "code",
   "execution_count": 96,
   "metadata": {},
   "outputs": [],
   "source": [
    "df = df[df[\"ticker\"].isin([\"BTCUSDT\",\"ETHUSDT\"])]"
   ]
  },
  {
   "cell_type": "code",
   "execution_count": 97,
   "metadata": {},
   "outputs": [],
   "source": [
    "wide_df = df.pivot_table(columns=[\"ticker\"],index=[\"time\"],values=[\"close\"])"
   ]
  },
  {
   "cell_type": "code",
   "execution_count": 98,
   "metadata": {},
   "outputs": [],
   "source": [
    "signal_df = wide_df.pct_change(1).shift(1)\n",
    "ret_df = wide_df.pct_change(1)"
   ]
  },
  {
   "cell_type": "code",
   "execution_count": null,
   "metadata": {},
   "outputs": [],
   "source": []
  },
  {
   "cell_type": "code",
   "execution_count": 99,
   "metadata": {},
   "outputs": [],
   "source": [
    "signal_df.columns = [\"BTCUSDT\",\"ETHUSDT\"]\n",
    "ret_df.columns = [\"BTCUSDT\",\"ETHUSDT\"]"
   ]
  },
  {
   "cell_type": "code",
   "execution_count": 100,
   "metadata": {},
   "outputs": [],
   "source": [
    "signal = signal_df[\"BTCUSDT\"]>signal_df[\"ETHUSDT\"]"
   ]
  },
  {
   "cell_type": "code",
   "execution_count": 101,
   "metadata": {},
   "outputs": [],
   "source": [
    "portfolio_ret = ret_df[\"ETHUSDT\"].copy()\n",
    "portfolio_ret[signal] = ret_df[\"BTCUSDT\"][signal]"
   ]
  },
  {
   "cell_type": "code",
   "execution_count": 102,
   "metadata": {},
   "outputs": [],
   "source": [
    "portfolio_ret_cum = (portfolio_ret+1).cumprod()"
   ]
  },
  {
   "cell_type": "code",
   "execution_count": null,
   "metadata": {},
   "outputs": [],
   "source": []
  },
  {
   "cell_type": "code",
   "execution_count": 103,
   "metadata": {},
   "outputs": [],
   "source": [
    "index_cum_ret = (ret_df + 1).cumprod()"
   ]
  },
  {
   "cell_type": "code",
   "execution_count": 104,
   "metadata": {},
   "outputs": [],
   "source": [
    "single_ret = pd.concat([ret_df,portfolio_ret],axis=1)\n",
    "cum_ret = pd.concat([index_cum_ret,portfolio_ret_cum],axis=1)"
   ]
  },
  {
   "cell_type": "code",
   "execution_count": 105,
   "metadata": {},
   "outputs": [],
   "source": [
    "single_ret.columns = [\"BTCUSDT\",\"ETHUSDT\",\"portfolio_ret\"]\n",
    "cum_ret.columns = [\"BTCUSDT\",\"ETHUSDT\",\"portfolio_ret\"]"
   ]
  },
  {
   "cell_type": "code",
   "execution_count": 106,
   "metadata": {},
   "outputs": [
    {
     "data": {
      "text/plain": [
       "<AxesSubplot:xlabel='time'>"
      ]
     },
     "execution_count": 106,
     "metadata": {},
     "output_type": "execute_result"
    },
    {
     "data": {
      "image/png": "[encoded data removed]",
      "text/plain": [
       "<Figure size 432x288 with 1 Axes>"
      ]
     },
     "metadata": {
      "needs_background": "light"
     },
     "output_type": "display_data"
    }
   ],
   "source": [
    "cum_ret.plot()"
   ]
  },
  {
   "cell_type": "code",
   "execution_count": 107,
   "metadata": {},
   "outputs": [
    {
     "data": {
      "text/plain": [
       "BTCUSDT          0.077940\n",
       "ETHUSDT          0.097657\n",
       "portfolio_ret    0.113496\n",
       "dtype: float64"
      ]
     },
     "execution_count": 107,
     "metadata": {},
     "output_type": "execute_result"
    }
   ],
   "source": [
    "single_ret.mean()/single_ret.std()"
   ]
  },
  {
   "cell_type": "markdown",
   "metadata": {},
   "source": [
    "### Test 2"
   ]
  },
  {
   "cell_type": "code",
   "execution_count": 62,
   "metadata": {},
   "outputs": [],
   "source": [
    "df = pd.read_csv(\"data/usdt_pairs.csv\")\n",
    "df = df.iloc[:,1:]\n",
    "df[\"time\"] = pd.to_datetime(df[\"time\"])"
   ]
  },
  {
   "cell_type": "code",
   "execution_count": 63,
   "metadata": {},
   "outputs": [],
   "source": [
    "df = df[df[\"ticker\"].isin([\"BTCUSDT\",\"ETHUSDT\",\"LTCUSDT\"])]"
   ]
  },
  {
   "cell_type": "code",
   "execution_count": 64,
   "metadata": {},
   "outputs": [],
   "source": [
    "wide_df = df.pivot_table(columns=[\"ticker\"],index=[\"time\"],values=[\"close\"])"
   ]
  },
  {
   "cell_type": "code",
   "execution_count": 65,
   "metadata": {},
   "outputs": [],
   "source": [
    "signal_df = wide_df.pct_change(20).shift(1)\n",
    "ret_df = wide_df.pct_change(1)"
   ]
  },
  {
   "cell_type": "code",
   "execution_count": 66,
   "metadata": {},
   "outputs": [],
   "source": [
    "signal_df.columns = [\"BTCUSDT\",\"ETHUSDT\",\"LTCUSDT\"]\n",
    "ret_df.columns = [\"BTCUSDT\",\"ETHUSDT\",\"LTCUSDT\"]"
   ]
  },
  {
   "cell_type": "code",
   "execution_count": 67,
   "metadata": {},
   "outputs": [],
   "source": [
    "max_daily_ret = signal_df.max(axis=1)\n",
    "\n",
    "def check(x):\n",
    "    \n",
    "    signal = x == max_daily_ret\n",
    "    return signal\n",
    "\n",
    "\n",
    "signal = signal_df.apply(check)"
   ]
  },
  {
   "cell_type": "code",
   "execution_count": 68,
   "metadata": {},
   "outputs": [],
   "source": [
    "port_ret = ret_df[signal].fillna(0)\n",
    "port_ret = port_ret.sum(axis=1)"
   ]
  },
  {
   "cell_type": "code",
   "execution_count": null,
   "metadata": {},
   "outputs": [],
   "source": []
  },
  {
   "cell_type": "markdown",
   "metadata": {},
   "source": [
    "### Test 3"
   ]
  },
  {
   "cell_type": "code",
   "execution_count": 82,
   "metadata": {},
   "outputs": [],
   "source": [
    "df = pd.read_csv(\"data/usdt_pairs.csv\")\n",
    "df = df.iloc[:,1:]\n",
    "df[\"time\"] = pd.to_datetime(df[\"time\"])"
   ]
  },
  {
   "cell_type": "code",
   "execution_count": 83,
   "metadata": {},
   "outputs": [],
   "source": [
    "df = df[df[\"ticker\"].isin([\"BTCUSDT\",\"ETHUSDT\"])]\n",
    "wide_df = df.pivot_table(columns=[\"ticker\"],index=[\"time\"],values=[\"close\"])"
   ]
  },
  {
   "cell_type": "code",
   "execution_count": 84,
   "metadata": {},
   "outputs": [],
   "source": [
    "signal_df = wide_df.pct_change(1).shift(1)\n",
    "ret_df = wide_df.pct_change(1)"
   ]
  },
  {
   "cell_type": "code",
   "execution_count": 85,
   "metadata": {},
   "outputs": [],
   "source": [
    "signal_df.columns = [\"BTCUSDT\",\"ETHUSDT\"]\n",
    "ret_df.columns = [\"BTCUSDT\",\"ETHUSDT\"]"
   ]
  },
  {
   "cell_type": "code",
   "execution_count": 86,
   "metadata": {},
   "outputs": [],
   "source": [
    "min_daily_ret = signal_df.min(axis=1)\n",
    "\n",
    "def check(x):\n",
    "    \n",
    "    signal = x == min_daily_ret\n",
    "    return signal\n",
    "\n",
    "\n",
    "signal = signal_df.apply(check)"
   ]
  },
  {
   "cell_type": "code",
   "execution_count": 87,
   "metadata": {},
   "outputs": [],
   "source": [
    "port_ret = ret_df[signal].fillna(0)\n",
    "port_ret = port_ret.sum(axis=1)"
   ]
  },
  {
   "cell_type": "code",
   "execution_count": 88,
   "metadata": {},
   "outputs": [
    {
     "data": {
      "text/plain": [
       "time\n",
       "2019-09-17 08:00:00    1.000000\n",
       "2019-09-18 08:00:00    1.000000\n",
       "2019-09-19 08:00:00    1.008595\n",
       "2019-09-20 08:00:00    1.001142\n",
       "2019-09-21 08:00:00    0.987459\n",
       "                         ...   \n",
       "2021-01-24 08:00:00    2.492042\n",
       "2021-01-25 08:00:00    2.491602\n",
       "2021-01-26 08:00:00    2.582522\n",
       "2021-01-27 08:00:00    2.415357\n",
       "2021-01-28 08:00:00    2.500993\n",
       "Length: 500, dtype: float64"
      ]
     },
     "execution_count": 88,
     "metadata": {},
     "output_type": "execute_result"
    }
   ],
   "source": [
    "(port_ret+1).cumprod()"
   ]
  },
  {
   "cell_type": "code",
   "execution_count": null,
   "metadata": {},
   "outputs": [],
   "source": []
  },
  {
   "cell_type": "code",
   "execution_count": null,
   "metadata": {},
   "outputs": [],
   "source": []
  },
  {
   "cell_type": "code",
   "execution_count": null,
   "metadata": {},
   "outputs": [],
   "source": []
  },
  {
   "cell_type": "code",
   "execution_count": null,
   "metadata": {},
   "outputs": [],
   "source": []
  },
  {
   "cell_type": "code",
   "execution_count": null,
   "metadata": {},
   "outputs": [],
   "source": []
  }
 ],
 "metadata": {
  "kernelspec": {
   "display_name": "Python 3",
   "language": "python",
   "name": "python3"
  },
  "language_info": {
   "codemirror_mode": {
    "name": "ipython",
    "version": 3
   },
   "file_extension": ".py",
   "mimetype": "text/x-python",
   "name": "python",
   "nbconvert_exporter": "python",
   "pygments_lexer": "ipython3",
   "version": "3.8.5"
  }
 },
 "nbformat": 4,
 "nbformat_minor": 4
}
